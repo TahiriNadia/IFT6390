{
  "nbformat": 4,
  "nbformat_minor": 0,
  "metadata": {
    "anaconda-cloud": {},
    "colab": {
      "name": "trees.ipynb",
      "provenance": [],
      "collapsed_sections": [],
      "include_colab_link": true
    },
    "kernelspec": {
      "display_name": "Python 3",
      "language": "python",
      "name": "python3"
    },
    "language_info": {
      "codemirror_mode": {
        "name": "ipython",
        "version": 3
      },
      "file_extension": ".py",
      "mimetype": "text/x-python",
      "name": "python",
      "nbconvert_exporter": "python",
      "pygments_lexer": "ipython3",
      "version": "3.7.3"
    },
    "nav_menu": {},
    "toc": {
      "navigate_menu": true,
      "number_sections": true,
      "sideBar": true,
      "threshold": 6,
      "toc_cell": false,
      "toc_section_display": "block",
      "toc_window_display": false
    }
  },
  "cells": [
    {
      "cell_type": "markdown",
      "metadata": {
        "id": "view-in-github",
        "colab_type": "text"
      },
      "source": [
        "<a href=\"https://colab.research.google.com/github/TahiriNadia/IFT6390/blob/master/trees.ipynb\" target=\"_parent\"><img src=\"https://colab.research.google.com/assets/colab-badge.svg\" alt=\"Open In Colab\"/></a>"
      ]
    },
    {
      "cell_type": "markdown",
      "metadata": {
        "colab_type": "text",
        "id": "KM9XVDmL2SoT"
      },
      "source": [
        "# Demo 10 : Decision 🌳s\n",
        "\n",
        "\n",
        "\n",
        "In this demo, you will implement:\n",
        "- training a decision tree\n",
        "- different methods for training a random forest\n",
        "\n",
        "/\n",
        "\n",
        "Dans ce labo, nous allons implémenter:\n",
        "\n",
        "*   l'entrainement d'un arbre de décision\n",
        "*   différentes méthodes pour entrainement une forêt aléatoire"
      ]
    },
    {
      "cell_type": "markdown",
      "metadata": {
        "colab_type": "text",
        "id": "xwafc_T22Soe"
      },
      "source": [
        "## Prepare the data\n",
        "\n",
        "We will use the Iris dataset again. Start by loading the data and splitting it into train/test sets.\n",
        "\n",
        "/\n",
        "\n",
        "## Preparation des données\n",
        "Nous allons encore utiliser le dataset Iris. Commencez par charger les données et les séparer en ensemble d'entrainement/test"
      ]
    },
    {
      "cell_type": "code",
      "metadata": {
        "colab_type": "code",
        "id": "WlNPne7V2So6",
        "scrolled": true,
        "outputId": "0aba7575-05fb-4b81-c819-b23f59d36267",
        "colab": {
          "base_uri": "https://localhost:8080/",
          "height": 50
        }
      },
      "source": [
        "import sklearn\n",
        "import numpy as np\n",
        "import matplotlib.pyplot as plt\n",
        "%matplotlib inline\n",
        "from sklearn import datasets\n",
        "\n",
        "iris = datasets.load_iris()\n",
        "\n",
        "# Split into train/test\n",
        "# Sépare en entrainement/test\n",
        "from sklearn.model_selection import train_test_split\n",
        "\n",
        "(iris_train_x, iris_test_x, \n",
        " iris_train_y, iris_test_y) = train_test_split(iris.data, iris.target, test_size=100)\n",
        "\n",
        "print(iris_train_x.shape)\n",
        "print(iris_test_x.shape)"
      ],
      "execution_count": 2,
      "outputs": [
        {
          "output_type": "stream",
          "text": [
            "(50, 4)\n",
            "(100, 4)\n"
          ],
          "name": "stdout"
        }
      ]
    },
    {
      "cell_type": "markdown",
      "metadata": {
        "colab_type": "text",
        "id": "g2xbeZdm2So5"
      },
      "source": [
        "## Decision tree\n",
        "\n",
        "To implement the basic decision tree, we will first implement some helper functions.\n",
        "\n",
        "/\n",
        "\n",
        "## Arbre de décision\n",
        "Pour implémenter un arbre de décision basique, nous devons d'abord créer quelques fonctions utiles."
      ]
    },
    {
      "cell_type": "code",
      "metadata": {
        "id": "XNdrhTYhglQ4",
        "colab_type": "code",
        "outputId": "31b3a591-205b-4c1b-8f3e-55198fddd59e",
        "colab": {
          "base_uri": "https://localhost:8080/",
          "height": 50
        }
      },
      "source": [
        "from collections import Counter\n",
        "\n",
        "def get_majority_class(labels):\n",
        "    counts = Counter(labels)\n",
        "    return counts.most_common(1)[0][0]\n",
        "\n",
        "def compute_entropy(labels):\n",
        "    counts = Counter(labels)\n",
        "    counts = np.array([counts[key] for key in counts])\n",
        "    frequencies = counts/counts.sum()\n",
        "    entropy = -(frequencies * np.log2(frequencies)).sum()\n",
        "    return entropy\n",
        "\n",
        "example_labels = np.array([3,1,2,0,2])\n",
        "print(get_majority_class(example_labels)) # should be 2\n",
        "print(compute_entropy(example_labels)) # should be 1.9219280948873623\n"
      ],
      "execution_count": 4,
      "outputs": [
        {
          "output_type": "stream",
          "text": [
            "2\n",
            "1.9219280948873623\n"
          ],
          "name": "stdout"
        }
      ]
    },
    {
      "cell_type": "markdown",
      "metadata": {
        "id": "kh7WIMBwglQ7",
        "colab_type": "text"
      },
      "source": [
        "Let's write a **Node** class to use in the decision tree. A node in the tree can:\n",
        "- ask a question (= determine whether examples have a certain feature greater than a certain threshold),\n",
        "- find the best question to split a (subset of a) dataset, or\n",
        "- if it is a leaf node, predict an output.\n",
        "\n",
        "To find the best question for one feature, compute all the **midpoints** of that feature, and for each midpoint, compute the entropy of the resulting split when the question uses that midpoint. To find the best question overall, repeat this for all columns, and pick the best question.\n",
        "\n",
        "For example, let's say you have this dataset:\n",
        "\n",
        "```\n",
        "array([[ 0.94, -1.45, -0.1 ,  1.26],\n",
        "       [-0.4 ,  0.94,  0.69,  1.53],\n",
        "       [-0.38, -0.53,  1.85, -0.89]])\n",
        "```\n",
        "\n",
        "The second column has the values `-1.45, 0.94, -0.53`. Sorting these values gives us `-1.45, -0.53,  0.94`. If we take the midpoints of these values, we get `-0.99, 0.21`.\n",
        "\n",
        "/\n",
        "\n",
        "Implémentons une classe **Node** (noeud) à utiliser dans l'arbre de décision. Un noeud dans l'arbre peut:\n",
        "\n",
        "* poser une question (= determiner si les exemples ont un certain attribut plus grand qu'un certain seuil),\n",
        "* trouver la meilleure question pour séparer un (sous-ensemble d'un) jeu de données, ou\n",
        "* si c'est une feuille, faire une prédiction\n",
        "\n",
        "Pour trouver la meilleure question pour un attribut, calculer tout les **valeurs intermédiaires** de cet attribut, et pour chaque valeur intermédiaire, calculer l'entropie de la séparation obtenue quand la question utilise cette valeur intermédiaire. Pour trouver la meilleur question, répeter ça pour chaque colonne, et choisir la meilleur question.\n",
        "\n",
        "Par exemple, disons que vous ayez ce jeu de données:\n",
        "\n",
        "```\n",
        "array([[ 0.94, -1.45, -0.1 ,  1.26],\n",
        "       [-0.4 ,  0.94,  0.69,  1.53],\n",
        "       [-0.38, -0.53,  1.85, -0.89]])\n",
        "```\n",
        "\n",
        "La deuxième colonne a les valeurs `-1.45, 0.94, -0.53`. Trier ces valeurs nous donne `-1.45, -0.53, 0.94`. Si nous prenons les valeurs intermédiaires, nous obtenons `-0.99, 0.21`."
      ]
    },
    {
      "cell_type": "code",
      "metadata": {
        "id": "LOcjyw1AglQ8",
        "colab_type": "code",
        "outputId": "3fc03993-03b3-44c5-acd3-b24da35e42fc",
        "colab": {
          "base_uri": "https://localhost:8080/",
          "height": 67
        }
      },
      "source": [
        "class Node():\n",
        "    def __init__(self):\n",
        "        self.threshold = None\n",
        "        self.col = None\n",
        "        self.is_leaf = None\n",
        "        self.output_class = None\n",
        "        \n",
        "    def find_best_question(self, x, y):\n",
        "        best_col = None\n",
        "        best_val = None\n",
        "        best_loss = np.inf\n",
        "        \n",
        "        num_cols = x.shape[1]\n",
        "        valid_cols = np.arange(num_cols)\n",
        "        for col in valid_cols:\n",
        "            sorted_indices = x[:, col].argsort()\n",
        "            sorted_vals = x[sorted_indices, col]\n",
        "            midpoints = [(sorted_vals[i] + sorted_vals[i+1])/2 for i in range(len(sorted_vals)-1) ]\n",
        "            for val in midpoints:\n",
        "                right_subset_rows = x[:, col] > val \n",
        "                left_subset_rows = np.invert(right_subset_rows)\n",
        "                right_labels = y[right_subset_rows]\n",
        "                left_labels = y[left_subset_rows]\n",
        "                \n",
        "                right_entropy = compute_entropy(right_labels)\n",
        "                left_entropy = compute_entropy(left_labels)\n",
        "                loss = left_entropy + right_entropy\n",
        "                if right_labels.shape[0] == 0 or left_labels.shape[0] == 0:\n",
        "                    continue\n",
        "                \n",
        "                if loss < best_loss:\n",
        "                    best_loss = loss\n",
        "                    best_col = col\n",
        "                    best_val = val\n",
        "                    \n",
        "        self.col = best_col\n",
        "        self.threshold = best_val\n",
        "    \n",
        "    def ask_question(self, x):\n",
        "        if not self.is_leaf:\n",
        "            return x[:, self.col] > self.threshold\n",
        "        else:\n",
        "            print(\"Error: leaf nodes cannot ask questions!\")\n",
        "            return False\n",
        "    \n",
        "    def predict(self):\n",
        "        if self.is_leaf:\n",
        "            return self.output_class\n",
        "        else:\n",
        "            print(\"Error: non-leaf nodes cannot make a prediction!\")\n",
        "            return None\n",
        "\n",
        "node=Node()\n",
        "example_x = np.array([[-2.32,  2.02,  0.53,  0.34],\n",
        "       [-1.44,  1.36,  0.12, -0.44],\n",
        "       [-0.28, -0.08,  0.9 , -1.63],\n",
        "       [-0.09,  0.17, -0.28,  0.44],\n",
        "       [ 0.8 , -1.65,  1.36,  1.62]])\n",
        "example_y = np.array([3,1,2,0,2])\n",
        "\n",
        "# Test find_best_question()\n",
        "node.find_best_question(example_x, example_y)\n",
        "print(node.threshold) # should be -1.88\n",
        "print(node.col) # should be 0\n",
        "\n",
        "# Test ask_question()\n",
        "test_x = np.array([[ 1.05, -1.85, -2.24,  1.45],\n",
        "       [ 1.2 , -0.34,  1.54, -0.39]])\n",
        "print(node.ask_question(test_x)) # should be [True True]\n"
      ],
      "execution_count": 5,
      "outputs": [
        {
          "output_type": "stream",
          "text": [
            "-1.88\n",
            "0\n",
            "[ True  True]\n"
          ],
          "name": "stdout"
        }
      ]
    },
    {
      "cell_type": "markdown",
      "metadata": {
        "id": "yXVWLTatglQ-",
        "colab_type": "text"
      },
      "source": [
        "Now, using the Node class, we will implement the decision tree. Like scikit-learn's interface, we will have fit() and predict() methods.\n",
        "\n",
        "/\n",
        "\n",
        "Maintenant, en utilisant la classe Node, nous allons implémenter l'arbre de décision. Comme avec l'interface de scikit-learn, nous aurons les méthodes fit() et predict()."
      ]
    },
    {
      "cell_type": "code",
      "metadata": {
        "id": "8tHisDwBgnsH",
        "colab_type": "code",
        "colab": {}
      },
      "source": [
        "class DecisionTreeClassifier():\n",
        "    def __init__(self, max_depth=1):\n",
        "        self.max_depth = max_depth\n",
        "    \n",
        "    def create_node(self, x_subset, y_subset, depth):\n",
        "        # Recursive function\n",
        "        node = Node()\n",
        "        \n",
        "        majority_class = get_majority_class(y_subset)\n",
        "        majority_class_count = (y_subset == majority_class).sum()\n",
        "        perfectly_classified = majority_class_count == len(y_subset)\n",
        "        \n",
        "        if perfectly_classified or depth == self.max_depth:\n",
        "            node.output_class = majority_class\n",
        "            node.is_leaf = True\n",
        "        else:\n",
        "            node.find_best_question(x_subset,y_subset)\n",
        "            node.is_leaf = False\n",
        "            right_subset_rows = node.ask_question(x_subset) \n",
        "            left_subset_rows = np.invert(right_subset_rows)\n",
        "            node.left_child = self.create_node(x_subset[left_subset_rows], y_subset[left_subset_rows],  depth+1)\n",
        "            node.right_child = self.create_node(x_subset[right_subset_rows], y_subset[right_subset_rows], depth+1)\n",
        "                \n",
        "        return node\n",
        "    \n",
        "    def fit(self, x, y):\n",
        "        self.root_node = self.create_node(x,y,depth=1)\n",
        "    \n",
        "    def predict(self, x):\n",
        "        predictions = []\n",
        "        \n",
        "        for i in range(len(x)):\n",
        "            current_node = self.root_node\n",
        "            x_i = x[i].reshape(1,-1)\n",
        "            done_descending_tree = False\n",
        "            while not done_descending_tree:\n",
        "                if current_node.is_leaf:\n",
        "                    predictions.append(current_node.predict())\n",
        "                    done_descending_tree = True\n",
        "\n",
        "                else:\n",
        "                    if current_node.ask_question(x_i):\n",
        "                        current_node = current_node.right_child\n",
        "                    else:\n",
        "                        current_node = current_node.left_child\n",
        "\n",
        "        return np.array(predictions)\n",
        "        \n"
      ],
      "execution_count": 0,
      "outputs": []
    },
    {
      "cell_type": "markdown",
      "metadata": {
        "id": "Ntcx_HhmglRA",
        "colab_type": "text"
      },
      "source": [
        "Train a tree to test your implementation. (You can also try comparing with scikit-learn's tree implementation.)\n",
        "\n",
        "/\n",
        "\n",
        "Entrainez un arbre pour tester votre implémentation. (Vous pouvez aussi essayer de comparer avec l'implémentation d'arbre de scikit-learn.)"
      ]
    },
    {
      "cell_type": "code",
      "metadata": {
        "id": "QCUMQEbcglRB",
        "colab_type": "code",
        "outputId": "4e162397-665b-4ab1-9ed6-69281a4951e7",
        "colab": {
          "base_uri": "https://localhost:8080/",
          "height": 134
        }
      },
      "source": [
        "# import sklearn.tree\n",
        "# tree = sklearn.tree.DecisionTreeClassifier(max_depth=10)\n",
        "tree = DecisionTreeClassifier(max_depth=10)\n",
        "tree.fit(iris_train_x, iris_train_y)\n",
        "print(iris_test_y)\n",
        "print(tree.predict(iris_test_x))\n",
        "print(\"accuracy: \", (tree.predict(iris_test_x) == iris_test_y).mean() * 100, \"%\")\n"
      ],
      "execution_count": 7,
      "outputs": [
        {
          "output_type": "stream",
          "text": [
            "[0 0 2 1 0 2 2 0 1 2 1 2 0 2 2 2 0 0 1 0 2 0 2 2 2 1 0 2 0 2 1 0 0 0 1 2 2\n",
            " 0 2 1 0 2 1 0 1 1 1 1 2 1 1 0 2 0 1 2 2 2 1 0 0 0 2 1 0 1 2 0 2 2 1 0 0 0\n",
            " 1 0 0 1 1 0 0 2 1 0 1 2 1 2 2 0 1 2 2 2 1 0 2 1 0 1]\n",
            "[0 0 2 1 0 2 2 0 1 2 1 2 0 2 1 2 0 0 1 0 1 0 2 2 2 2 0 2 0 2 2 0 0 0 1 2 2\n",
            " 0 2 1 0 2 1 0 1 1 1 1 2 1 1 0 2 0 1 2 2 2 2 0 0 0 2 2 0 1 2 0 2 2 1 0 0 0\n",
            " 1 0 0 1 1 0 0 2 1 0 1 2 1 2 2 0 2 1 2 2 1 0 2 1 0 1]\n",
            "accuracy:  92.0 %\n"
          ],
          "name": "stdout"
        }
      ]
    },
    {
      "cell_type": "markdown",
      "metadata": {
        "id": "kdv6a36lglRD",
        "colab_type": "text"
      },
      "source": [
        "Train trees of increasing depth on the Iris dataset and plot their performance. What do you notice about the performance as the depth increases?\n",
        "\n",
        "/\n",
        "\n",
        "Entrainez des arbres de profondeur croissante sur le jeu de données Iris et tracez leurs performances. Que remarquez-vous sur les performances lorsque la profondeur augmente ?"
      ]
    },
    {
      "cell_type": "code",
      "metadata": {
        "id": "_t-gEoadglRE",
        "colab_type": "code",
        "outputId": "27fb6ce6-42fa-4497-96b2-962b8cff835c",
        "colab": {
          "base_uri": "https://localhost:8080/",
          "height": 313
        }
      },
      "source": [
        "depths = []\n",
        "accuracies = []\n",
        "for depth in range(1, 20):\n",
        "    model = DecisionTreeClassifier(max_depth=depth)\n",
        "    model.fit(iris_train_x, iris_train_y)\n",
        "    accuracy = (model.predict(iris_test_x) == iris_test_y).mean()\n",
        "    accuracies.append(accuracy)\n",
        "    depths.append(depth)\n",
        "\n",
        "print(\"Best performance: \", max(accuracies))\n",
        "plt.xlabel('Tree depth')\n",
        "plt.ylabel('Performance on test set')\n",
        "plt.plot(depths, accuracies)\n"
      ],
      "execution_count": 8,
      "outputs": [
        {
          "output_type": "stream",
          "text": [
            "Best performance:  0.92\n"
          ],
          "name": "stdout"
        },
        {
          "output_type": "execute_result",
          "data": {
            "text/plain": [
              "[<matplotlib.lines.Line2D at 0x7f138429d9e8>]"
            ]
          },
          "metadata": {
            "tags": []
          },
          "execution_count": 8
        },
        {
          "output_type": "display_data",
          "data": {
            "image/png": "[encoded data removed]",
            "text/plain": [
              "<Figure size 432x288 with 1 Axes>"
            ]
          },
          "metadata": {
            "tags": []
          }
        }
      ]
    },
    {
      "cell_type": "markdown",
      "metadata": {
        "colab_type": "text",
        "id": "ayoDSZJWglRH"
      },
      "source": [
        "## Random forest\n",
        "\n",
        "Next, we will implement the random forest model using our decision tree. \n",
        "\n",
        "A random forest is an ensemble of decision trees, where each tree is trained by randomizing the dataset. The standard method for randomizing the dataset is feature bagging, where a random subset of features is selected for each tree, but other methods are possible.\n",
        "\n",
        "We will explore two ways of randomizing the dataset: 1) feature bagging, and 2) example bagging, i.e. training each classifier on a random subset of the dataset.\n",
        "\n",
        "/\n",
        "\n",
        "## Forêt aléatoire\n",
        "Ensuite, nous allons implémenter une forêt aléatoire en utilisant notre arbre de décision.\n",
        "\n",
        "Une forêt aléatoire est un ensemble d'arbres de décision, où chaque arbre est entrainé sur une variation aléatoire du jeu de données. La méthode standard pour obtenir ces variations est le feature bagging (ensachage d'attributs), où un sous-ensemble aléatoire des attributs est choisi pour chaque arbre, mais d'autres méthodes sont possibles.\n",
        "\n",
        "Nous allons explorer deux façon d'obtenir des variations aléatoires du jeu de données: 1) feature bagging (ensachage d'attributs), et 2) example bagging (ensachage d'exemples), i.e. entrainer chaque classifieur sur un sous-ensemble aléatoire du jeu de données."
      ]
    },
    {
      "cell_type": "code",
      "metadata": {
        "id": "gwIddcEZglRI",
        "colab_type": "code",
        "colab": {}
      },
      "source": [
        "import math\n",
        "\n",
        "class RandomForestClassifier():\n",
        "    def __init__(self, n_estimators=2, max_depth=5, bootstrap_fraction=0.5, features_fraction=0.5):\n",
        "        self.max_depth = max_depth\n",
        "        self.n_estimators = n_estimators\n",
        "        self.bootstrap_fraction = bootstrap_fraction\n",
        "        self.features_fraction= features_fraction\n",
        "        self.estimators = []\n",
        "        \n",
        "    def fit(self, x, y):\n",
        "        num_rows = math.ceil(self.bootstrap_fraction * x.shape[0])\n",
        "        num_cols = math.ceil(self.features_fraction * x.shape[1])\n",
        "        for _ in range(self.n_estimators):\n",
        "            rows_idx = np.random.choice(x.shape[0],size=num_rows)\n",
        "            cols_idx = np.random.choice(x.shape[1], size=num_cols, replace=False)\n",
        "            x_subset = x[rows_idx][:, cols_idx]\n",
        "            y_subset = y[rows_idx]\n",
        "            tree = DecisionTreeClassifier(max_depth=self.max_depth)\n",
        "            tree.fit(x_subset, y_subset)\n",
        "            self.estimators.append((tree,cols_idx))\n",
        "        \n",
        "    def predict(self, x):\n",
        "        allpreds = np.array([e.predict(x[:,cols]) for e, cols in self.estimators])\n",
        "        predictions = np.array([get_majority_class(y) for y in allpreds.T])\n",
        "        return predictions\n",
        "\n"
      ],
      "execution_count": 0,
      "outputs": []
    },
    {
      "cell_type": "markdown",
      "metadata": {
        "id": "RWGCu0IBglRK",
        "colab_type": "text"
      },
      "source": [
        "Now let's look at the influence of these hyperparameters. First, let's plot the performance as a function of the number of trees when using feature bagging only. Next, let's try example bagging only. Then let's put them together.\n",
        "\n",
        "/\n",
        "\n",
        "Maintenant regardons l'influence de ces hyperparamètres. D'abord, traçons les performances en fonction du nombre d'arbres en utilisant uniquement le feature bagging (ensachage d'attributs). Ensuite, essayons l'example bagging (ensachage d'exemples). Finalement, combinons-les ensemble.\n",
        "\n"
      ]
    },
    {
      "cell_type": "code",
      "metadata": {
        "colab_type": "code",
        "id": "My2jcUPk2SpA",
        "scrolled": true,
        "colab": {
          "base_uri": "https://localhost:8080/",
          "height": 314
        },
        "outputId": "21246c71-3c49-4269-ab91-077bf265f5c2"
      },
      "source": [
        "tree_counts = []\n",
        "accuracies = []\n",
        "for tree_count in range(1, 20):\n",
        "    model = RandomForestClassifier(n_estimators=tree_count,\n",
        "                                   max_depth=3,\n",
        "                                   bootstrap_fraction=1,\n",
        "                                   features_fraction=0.5)\n",
        "    model.fit(iris_train_x, iris_train_y)\n",
        "    accuracy = (model.predict(iris_test_x) == iris_test_y).mean()\n",
        "    accuracies.append(accuracy)\n",
        "    tree_counts.append(tree_count)\n",
        "\n",
        "print(\"Best performance: \", max(accuracies))\n",
        "plt.xlabel('n_estimators')\n",
        "plt.ylabel('Performance on test set')\n",
        "plt.plot(tree_counts, accuracies)"
      ],
      "execution_count": 16,
      "outputs": [
        {
          "output_type": "stream",
          "text": [
            "Best performance:  0.95\n"
          ],
          "name": "stdout"
        },
        {
          "output_type": "execute_result",
          "data": {
            "text/plain": [
              "[<matplotlib.lines.Line2D at 0x7f1383388470>]"
            ]
          },
          "metadata": {
            "tags": []
          },
          "execution_count": 16
        },
        {
          "output_type": "display_data",
          "data": {
            "image/png": "[encoded data removed]",
            "text/plain": [
              "<Figure size 432x288 with 1 Axes>"
            ]
          },
          "metadata": {
            "tags": []
          }
        }
      ]
    },
    {
      "cell_type": "code",
      "metadata": {
        "colab_type": "code",
        "id": "0nPtGKtd2SpQ",
        "outputId": "b69388cf-6a2d-4713-98e5-9432dcf53ae3",
        "colab": {
          "base_uri": "https://localhost:8080/",
          "height": 297
        }
      },
      "source": [
        "validation_curve(0.5,1)"
      ],
      "execution_count": 17,
      "outputs": [
        {
          "output_type": "stream",
          "text": [
            "Best performance:  0.93\n"
          ],
          "name": "stdout"
        },
        {
          "output_type": "display_data",
          "data": {
            "image/png": "[encoded data removed]",
            "text/plain": [
              "<Figure size 432x288 with 1 Axes>"
            ]
          },
          "metadata": {
            "tags": []
          }
        }
      ]
    },
    {
      "cell_type": "code",
      "metadata": {
        "id": "ZS_GrfFgglRR",
        "colab_type": "code",
        "outputId": "4ce06770-e1cc-4366-bfbf-d04c9a67ac76",
        "colab": {
          "base_uri": "https://localhost:8080/",
          "height": 297
        }
      },
      "source": [
        "validation_curve(1, 0.5)"
      ],
      "execution_count": 18,
      "outputs": [
        {
          "output_type": "stream",
          "text": [
            "Best performance:  0.94\n"
          ],
          "name": "stdout"
        },
        {
          "output_type": "display_data",
          "data": {
            "image/png": "[encoded data removed]",
            "text/plain": [
              "<Figure size 432x288 with 1 Axes>"
            ]
          },
          "metadata": {
            "tags": []
          }
        }
      ]
    },
    {
      "cell_type": "code",
      "metadata": {
        "id": "e_gitj5czc_a",
        "colab_type": "code",
        "colab": {
          "base_uri": "https://localhost:8080/",
          "height": 297
        },
        "outputId": "c4cc24e7-5c78-4be3-d2ee-09eabc91335f"
      },
      "source": [
        "validation_curve(.5,.5)"
      ],
      "execution_count": 19,
      "outputs": [
        {
          "output_type": "stream",
          "text": [
            "Best performance:  0.94\n"
          ],
          "name": "stdout"
        },
        {
          "output_type": "display_data",
          "data": {
            "image/png": "[encoded data removed]",
            "text/plain": [
              "<Figure size 432x288 with 1 Axes>"
            ]
          },
          "metadata": {
            "tags": []
          }
        }
      ]
    }
  ]
}